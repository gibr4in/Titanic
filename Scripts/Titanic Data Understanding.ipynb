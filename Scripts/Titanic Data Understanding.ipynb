{
 "cells": [
  {
   "cell_type": "code",
   "execution_count": 1,
   "metadata": {},
   "outputs": [],
   "source": [
    "import pandas as pd\n",
    "pd.options.mode.chained_assignment = None\n",
    "import numpy as np\n",
    "import matplotlib.pyplot as plt"
   ]
  },
  {
   "cell_type": "markdown",
   "metadata": {},
   "source": [
    "# Importing data"
   ]
  },
  {
   "cell_type": "code",
   "execution_count": 2,
   "metadata": {},
   "outputs": [
    {
     "data": {
      "text/plain": [
       "(891, 12)"
      ]
     },
     "execution_count": 2,
     "metadata": {},
     "output_type": "execute_result"
    }
   ],
   "source": [
    "train_data = pd.read_csv('../Data/train.csv')\n",
    "test_data = pd.read_csv('../Data/test.csv')\n",
    "train_data.shape"
   ]
  },
  {
   "cell_type": "code",
   "execution_count": 3,
   "metadata": {},
   "outputs": [
    {
     "data": {
      "text/html": [
       "<div>\n",
       "<style scoped>\n",
       "    .dataframe tbody tr th:only-of-type {\n",
       "        vertical-align: middle;\n",
       "    }\n",
       "\n",
       "    .dataframe tbody tr th {\n",
       "        vertical-align: top;\n",
       "    }\n",
       "\n",
       "    .dataframe thead th {\n",
       "        text-align: right;\n",
       "    }\n",
       "</style>\n",
       "<table border=\"1\" class=\"dataframe\">\n",
       "  <thead>\n",
       "    <tr style=\"text-align: right;\">\n",
       "      <th></th>\n",
       "      <th>PassengerId</th>\n",
       "      <th>Survived</th>\n",
       "      <th>Pclass</th>\n",
       "      <th>Name</th>\n",
       "      <th>Sex</th>\n",
       "      <th>Age</th>\n",
       "      <th>SibSp</th>\n",
       "      <th>Parch</th>\n",
       "      <th>Ticket</th>\n",
       "      <th>Fare</th>\n",
       "      <th>Cabin</th>\n",
       "      <th>Embarked</th>\n",
       "    </tr>\n",
       "  </thead>\n",
       "  <tbody>\n",
       "    <tr>\n",
       "      <th>0</th>\n",
       "      <td>1</td>\n",
       "      <td>0</td>\n",
       "      <td>3</td>\n",
       "      <td>Braund, Mr. Owen Harris</td>\n",
       "      <td>male</td>\n",
       "      <td>22.0</td>\n",
       "      <td>1</td>\n",
       "      <td>0</td>\n",
       "      <td>A/5 21171</td>\n",
       "      <td>7.2500</td>\n",
       "      <td>NaN</td>\n",
       "      <td>S</td>\n",
       "    </tr>\n",
       "    <tr>\n",
       "      <th>1</th>\n",
       "      <td>2</td>\n",
       "      <td>1</td>\n",
       "      <td>1</td>\n",
       "      <td>Cumings, Mrs. John Bradley (Florence Briggs Th...</td>\n",
       "      <td>female</td>\n",
       "      <td>38.0</td>\n",
       "      <td>1</td>\n",
       "      <td>0</td>\n",
       "      <td>PC 17599</td>\n",
       "      <td>71.2833</td>\n",
       "      <td>C85</td>\n",
       "      <td>C</td>\n",
       "    </tr>\n",
       "    <tr>\n",
       "      <th>2</th>\n",
       "      <td>3</td>\n",
       "      <td>1</td>\n",
       "      <td>3</td>\n",
       "      <td>Heikkinen, Miss. Laina</td>\n",
       "      <td>female</td>\n",
       "      <td>26.0</td>\n",
       "      <td>0</td>\n",
       "      <td>0</td>\n",
       "      <td>STON/O2. 3101282</td>\n",
       "      <td>7.9250</td>\n",
       "      <td>NaN</td>\n",
       "      <td>S</td>\n",
       "    </tr>\n",
       "    <tr>\n",
       "      <th>3</th>\n",
       "      <td>4</td>\n",
       "      <td>1</td>\n",
       "      <td>1</td>\n",
       "      <td>Futrelle, Mrs. Jacques Heath (Lily May Peel)</td>\n",
       "      <td>female</td>\n",
       "      <td>35.0</td>\n",
       "      <td>1</td>\n",
       "      <td>0</td>\n",
       "      <td>113803</td>\n",
       "      <td>53.1000</td>\n",
       "      <td>C123</td>\n",
       "      <td>S</td>\n",
       "    </tr>\n",
       "    <tr>\n",
       "      <th>4</th>\n",
       "      <td>5</td>\n",
       "      <td>0</td>\n",
       "      <td>3</td>\n",
       "      <td>Allen, Mr. William Henry</td>\n",
       "      <td>male</td>\n",
       "      <td>35.0</td>\n",
       "      <td>0</td>\n",
       "      <td>0</td>\n",
       "      <td>373450</td>\n",
       "      <td>8.0500</td>\n",
       "      <td>NaN</td>\n",
       "      <td>S</td>\n",
       "    </tr>\n",
       "  </tbody>\n",
       "</table>\n",
       "</div>"
      ],
      "text/plain": [
       "   PassengerId  Survived  Pclass  \\\n",
       "0            1         0       3   \n",
       "1            2         1       1   \n",
       "2            3         1       3   \n",
       "3            4         1       1   \n",
       "4            5         0       3   \n",
       "\n",
       "                                                Name     Sex   Age  SibSp  \\\n",
       "0                            Braund, Mr. Owen Harris    male  22.0      1   \n",
       "1  Cumings, Mrs. John Bradley (Florence Briggs Th...  female  38.0      1   \n",
       "2                             Heikkinen, Miss. Laina  female  26.0      0   \n",
       "3       Futrelle, Mrs. Jacques Heath (Lily May Peel)  female  35.0      1   \n",
       "4                           Allen, Mr. William Henry    male  35.0      0   \n",
       "\n",
       "   Parch            Ticket     Fare Cabin Embarked  \n",
       "0      0         A/5 21171   7.2500   NaN        S  \n",
       "1      0          PC 17599  71.2833   C85        C  \n",
       "2      0  STON/O2. 3101282   7.9250   NaN        S  \n",
       "3      0            113803  53.1000  C123        S  \n",
       "4      0            373450   8.0500   NaN        S  "
      ]
     },
     "execution_count": 3,
     "metadata": {},
     "output_type": "execute_result"
    }
   ],
   "source": [
    "train_data.head(5)"
   ]
  },
  {
   "cell_type": "markdown",
   "metadata": {},
   "source": [
    "## Socioeconomic profile of Titanic passenger's"
   ]
  },
  {
   "cell_type": "markdown",
   "metadata": {},
   "source": [
    "### Survivors per gender"
   ]
  },
  {
   "cell_type": "code",
   "execution_count": 4,
   "metadata": {},
   "outputs": [],
   "source": [
    "#Survivors per gender\n",
    "survivors = train_data.groupby(['Survived','Sex']).size().unstack(level=1).reset_index()\n",
    "survivors['Survived'].replace(to_replace=[0, 1], value=['Perished', 'Survived'], inplace=True)\n",
    "survivors.set_index('Survived', inplace=True)\n",
    "#survivors.rename(columns={0: 'Deceased', 1 : 'Survived'}, inplace = True)"
   ]
  },
  {
   "cell_type": "code",
   "execution_count": 5,
   "metadata": {},
   "outputs": [
    {
     "data": {
      "text/html": [
       "<div>\n",
       "<style scoped>\n",
       "    .dataframe tbody tr th:only-of-type {\n",
       "        vertical-align: middle;\n",
       "    }\n",
       "\n",
       "    .dataframe tbody tr th {\n",
       "        vertical-align: top;\n",
       "    }\n",
       "\n",
       "    .dataframe thead th {\n",
       "        text-align: right;\n",
       "    }\n",
       "</style>\n",
       "<table border=\"1\" class=\"dataframe\">\n",
       "  <thead>\n",
       "    <tr style=\"text-align: right;\">\n",
       "      <th>Sex</th>\n",
       "      <th>female</th>\n",
       "      <th>male</th>\n",
       "    </tr>\n",
       "    <tr>\n",
       "      <th>Survived</th>\n",
       "      <th></th>\n",
       "      <th></th>\n",
       "    </tr>\n",
       "  </thead>\n",
       "  <tbody>\n",
       "    <tr>\n",
       "      <th>Perished</th>\n",
       "      <td>81</td>\n",
       "      <td>468</td>\n",
       "    </tr>\n",
       "    <tr>\n",
       "      <th>Survived</th>\n",
       "      <td>233</td>\n",
       "      <td>109</td>\n",
       "    </tr>\n",
       "  </tbody>\n",
       "</table>\n",
       "</div>"
      ],
      "text/plain": [
       "Sex       female  male\n",
       "Survived              \n",
       "Perished      81   468\n",
       "Survived     233   109"
      ]
     },
     "execution_count": 5,
     "metadata": {},
     "output_type": "execute_result"
    }
   ],
   "source": [
    "survivors"
   ]
  },
  {
   "cell_type": "code",
   "execution_count": 6,
   "metadata": {},
   "outputs": [
    {
     "data": {
      "image/png": "[encoded data removed]",
      "text/plain": [
       "<Figure size 1440x432 with 2 Axes>"
      ]
     },
     "metadata": {
      "needs_background": "light"
     },
     "output_type": "display_data"
    }
   ],
   "source": [
    "fig = plt.figure() # create figure\n",
    "fig.set_figwidth(18) # set width\n",
    "fig.set_figheight(18) # set height\n",
    "fig.suptitle(r\"$\\bf{ Figure 1:}$\" \" Gender distribution of Titanic's passengers\", y=-0.03, fontsize=16)\n",
    "\n",
    "ax0 = fig.add_subplot(1, 2, 1) # add subplot 1 (1 row, 2 columns, first plot)\n",
    "ax1 = fig.add_subplot(1, 2, 2) # add subplot 2 (1 row, 2 columns, second plot). See tip below**\n",
    "\n",
    "# Subplot 1: Bar plot\n",
    "train_data['Sex'].value_counts().plot(kind='bar', color= ('orange', 'blue'),figsize=(20, 6), ax=ax0) # add to subplot 1\n",
    "ax0.set_title('Number of passengers by gender')\n",
    "ax0.set_xlabel('Sex')\n",
    "ax0.set_ylabel('Number of passengers')\n",
    "\n",
    "# Subplot 2: Line plot\n",
    "survivors.plot(kind='bar', figsize=(20, 6), ax=ax1) # add to subplot 1\n",
    "ax1.set_title('Number of passengers surviving/perishing by gender')\n",
    "ax1.set_xlabel('Fate')\n",
    "ax1.set_ylabel('Number of passengers')\n",
    "ax1.set_ylim([0,600])\n",
    "\n",
    "plt.show()"
   ]
  },
  {
   "cell_type": "markdown",
   "metadata": {},
   "source": [
    "**Analysis:**  We can see that most women traveling on the titanic's maiden voyage survived, while the opposite happened for men; however, some men survived and some women perished, let's see if social class or age had an influence on the fate of these \"minority\" groups"
   ]
  },
  {
   "cell_type": "markdown",
   "metadata": {},
   "source": [
    "### Social class of minority groups"
   ]
  },
  {
   "cell_type": "markdown",
   "metadata": {},
   "source": [
    "#### Women that perished and Men that survived"
   ]
  },
  {
   "cell_type": "code",
   "execution_count": 7,
   "metadata": {},
   "outputs": [],
   "source": [
    "fate_by_class = train_data.groupby(['Survived','Sex','Pclass']).size().unstack(level=1).reset_index()\n",
    "fate_by_class['Survived'].replace(to_replace=[0, 1], value=['Perished', 'Survived'], inplace=True)\n",
    "fate_by_class.set_index('Pclass', inplace=True)"
   ]
  },
  {
   "cell_type": "code",
   "execution_count": 8,
   "metadata": {},
   "outputs": [
    {
     "data": {
      "text/html": [
       "<div>\n",
       "<style scoped>\n",
       "    .dataframe tbody tr th:only-of-type {\n",
       "        vertical-align: middle;\n",
       "    }\n",
       "\n",
       "    .dataframe tbody tr th {\n",
       "        vertical-align: top;\n",
       "    }\n",
       "\n",
       "    .dataframe thead th {\n",
       "        text-align: right;\n",
       "    }\n",
       "</style>\n",
       "<table border=\"1\" class=\"dataframe\">\n",
       "  <thead>\n",
       "    <tr style=\"text-align: right;\">\n",
       "      <th>Sex</th>\n",
       "      <th>Survived</th>\n",
       "      <th>female</th>\n",
       "      <th>male</th>\n",
       "    </tr>\n",
       "    <tr>\n",
       "      <th>Pclass</th>\n",
       "      <th></th>\n",
       "      <th></th>\n",
       "      <th></th>\n",
       "    </tr>\n",
       "  </thead>\n",
       "  <tbody>\n",
       "    <tr>\n",
       "      <th>1</th>\n",
       "      <td>Perished</td>\n",
       "      <td>3</td>\n",
       "      <td>77</td>\n",
       "    </tr>\n",
       "    <tr>\n",
       "      <th>2</th>\n",
       "      <td>Perished</td>\n",
       "      <td>6</td>\n",
       "      <td>91</td>\n",
       "    </tr>\n",
       "    <tr>\n",
       "      <th>3</th>\n",
       "      <td>Perished</td>\n",
       "      <td>72</td>\n",
       "      <td>300</td>\n",
       "    </tr>\n",
       "    <tr>\n",
       "      <th>1</th>\n",
       "      <td>Survived</td>\n",
       "      <td>91</td>\n",
       "      <td>45</td>\n",
       "    </tr>\n",
       "    <tr>\n",
       "      <th>2</th>\n",
       "      <td>Survived</td>\n",
       "      <td>70</td>\n",
       "      <td>17</td>\n",
       "    </tr>\n",
       "    <tr>\n",
       "      <th>3</th>\n",
       "      <td>Survived</td>\n",
       "      <td>72</td>\n",
       "      <td>47</td>\n",
       "    </tr>\n",
       "  </tbody>\n",
       "</table>\n",
       "</div>"
      ],
      "text/plain": [
       "Sex     Survived  female  male\n",
       "Pclass                        \n",
       "1       Perished       3    77\n",
       "2       Perished       6    91\n",
       "3       Perished      72   300\n",
       "1       Survived      91    45\n",
       "2       Survived      70    17\n",
       "3       Survived      72    47"
      ]
     },
     "execution_count": 8,
     "metadata": {},
     "output_type": "execute_result"
    }
   ],
   "source": [
    "fate_by_class"
   ]
  },
  {
   "cell_type": "code",
   "execution_count": 9,
   "metadata": {},
   "outputs": [],
   "source": [
    "perished = fate_by_class.loc[fate_by_class.Survived == 'Perished']\n",
    "survived = fate_by_class.loc[fate_by_class.Survived == 'Survived']"
   ]
  },
  {
   "cell_type": "code",
   "execution_count": 10,
   "metadata": {},
   "outputs": [
    {
     "data": {
      "image/png": "[encoded data removed]",
      "text/plain": [
       "<Figure size 1440x432 with 2 Axes>"
      ]
     },
     "metadata": {
      "needs_background": "light"
     },
     "output_type": "display_data"
    }
   ],
   "source": [
    "fig2 = plt.figure() # create figure\n",
    "fig2.set_figwidth(20) # set width\n",
    "fig2.set_figheight(20) # set height\n",
    "fig2.suptitle(r\"$\\bf{ Figure 2:}$\" \" Fate by gender and passenger class\", y=-0.03, fontsize=16)\n",
    "\n",
    "ax0 = fig2.add_subplot(1, 2, 1) # add subplot 1 (1 row, 1 column, first plot)\n",
    "ax1 = fig2.add_subplot(1, 2, 2) # add subplot 1 (1 row, 2nd column, second plot)\n",
    "\n",
    "# Subplot 1: Bar plot\n",
    "perished.plot(kind='bar',figsize=(20, 6), ax=ax0) # add to subplot 1\n",
    "ax0.set_title('Casualties by gender and passenger class')\n",
    "ax0.set_xlabel('Passenger class')\n",
    "ax0.set_ylabel('Number of passengers')\n",
    "\n",
    "#add anotation text for each bar on the 'female' column\n",
    "for i, v in enumerate(perished['female']):\n",
    "    ax0.text( i - .15, v + 5, str(v), color='blue', fontweight='bold')\n",
    "#add anotation text for each bar on the 'male' column\n",
    "for i, v in enumerate(perished['male']):\n",
    "    ax0.text( i + .07, v + 5, str(v), color='orange', fontweight='bold')\n",
    "\n",
    "# Subplot 2: Bar plot\n",
    "survived.plot(kind='bar',figsize=(20, 6), ax=ax1) # add to subplot 2\n",
    "ax1.set_title('Survival by gender and passenger class')\n",
    "ax1.set_xlabel('Passenger class')\n",
    "ax1.set_ylabel('Number of passengers')\n",
    "ax1.set_ylim([0,300])\n",
    "\n",
    "#add anotation text for each bar on the 'female' column\n",
    "for i, v in enumerate(survived['female']):\n",
    "    ax1.text( i - .15, v + 5, str(v), color='blue', fontweight='bold')\n",
    "#add anotation text for each bar on the 'male' column\n",
    "for i, v in enumerate(survived['male']):\n",
    "    ax1.text( i + .07, v + 5, str(v), color='orange', fontweight='bold')\n",
    "\n",
    "\n",
    "plt.show()"
   ]
  },
  {
   "cell_type": "markdown",
   "metadata": {},
   "source": [
    "**Analysis:** We can see that the highest number of casualities took place among males traveling in third class, where 300 died, and only 47 survived."
   ]
  },
  {
   "cell_type": "code",
   "execution_count": 11,
   "metadata": {},
   "outputs": [],
   "source": [
    "survived['Survival_Rate_female_%'] = survived['female']*100/(survived['female']+perished['female'])\n",
    "survived['Survival_Rate_male_%'] = survived['male']*100/(survived['male']+perished['male']).copy()"
   ]
  },
  {
   "cell_type": "code",
   "execution_count": 12,
   "metadata": {},
   "outputs": [
    {
     "data": {
      "text/html": [
       "<div>\n",
       "<style scoped>\n",
       "    .dataframe tbody tr th:only-of-type {\n",
       "        vertical-align: middle;\n",
       "    }\n",
       "\n",
       "    .dataframe tbody tr th {\n",
       "        vertical-align: top;\n",
       "    }\n",
       "\n",
       "    .dataframe thead th {\n",
       "        text-align: right;\n",
       "    }\n",
       "</style>\n",
       "<table border=\"1\" class=\"dataframe\">\n",
       "  <thead>\n",
       "    <tr style=\"text-align: right;\">\n",
       "      <th>Sex</th>\n",
       "      <th>Survived</th>\n",
       "      <th>female</th>\n",
       "      <th>male</th>\n",
       "      <th>Survival_Rate_female_%</th>\n",
       "      <th>Survival_Rate_male_%</th>\n",
       "    </tr>\n",
       "    <tr>\n",
       "      <th>Pclass</th>\n",
       "      <th></th>\n",
       "      <th></th>\n",
       "      <th></th>\n",
       "      <th></th>\n",
       "      <th></th>\n",
       "    </tr>\n",
       "  </thead>\n",
       "  <tbody>\n",
       "    <tr>\n",
       "      <th>1</th>\n",
       "      <td>Survived</td>\n",
       "      <td>91</td>\n",
       "      <td>45</td>\n",
       "      <td>96.808511</td>\n",
       "      <td>36.885246</td>\n",
       "    </tr>\n",
       "    <tr>\n",
       "      <th>2</th>\n",
       "      <td>Survived</td>\n",
       "      <td>70</td>\n",
       "      <td>17</td>\n",
       "      <td>92.105263</td>\n",
       "      <td>15.740741</td>\n",
       "    </tr>\n",
       "    <tr>\n",
       "      <th>3</th>\n",
       "      <td>Survived</td>\n",
       "      <td>72</td>\n",
       "      <td>47</td>\n",
       "      <td>50.000000</td>\n",
       "      <td>13.544669</td>\n",
       "    </tr>\n",
       "  </tbody>\n",
       "</table>\n",
       "</div>"
      ],
      "text/plain": [
       "Sex     Survived  female  male  Survival_Rate_female_%  Survival_Rate_male_%\n",
       "Pclass                                                                      \n",
       "1       Survived      91    45               96.808511             36.885246\n",
       "2       Survived      70    17               92.105263             15.740741\n",
       "3       Survived      72    47               50.000000             13.544669"
      ]
     },
     "execution_count": 12,
     "metadata": {},
     "output_type": "execute_result"
    }
   ],
   "source": [
    "survived"
   ]
  },
  {
   "cell_type": "markdown",
   "metadata": {},
   "source": [
    "**Analysis**: Based on the table and graphs above, we can see that survival rate is heavily influenced by gender, but also by passenger class. Females where more likely to survive overall than males, but social class also played a role in survival for both genders. "
   ]
  },
  {
   "cell_type": "markdown",
   "metadata": {},
   "source": [
    "#### Age of minority groups: Women"
   ]
  },
  {
   "cell_type": "markdown",
   "metadata": {},
   "source": [
    "Let's analyze the role of age in female passengers' survival rate."
   ]
  },
  {
   "cell_type": "code",
   "execution_count": 13,
   "metadata": {},
   "outputs": [],
   "source": [
    "women_per_age = pd.DataFrame(train_data.loc[train_data.Sex=='female'][['Pclass','Survived','Age']])\n",
    "women_per_age['Survived'].replace(to_replace=[0, 1], value=['Perished', 'Survived'], inplace=True)\n",
    "women_per_age.sort_values(by='Age', ascending=True, axis=0, inplace=True)"
   ]
  },
  {
   "cell_type": "code",
   "execution_count": 14,
   "metadata": {},
   "outputs": [
    {
     "name": "stdout",
     "output_type": "stream",
     "text": [
      "<class 'pandas.core.frame.DataFrame'>\n",
      "Int64Index: 314 entries, 469 to 888\n",
      "Data columns (total 3 columns):\n",
      " #   Column    Non-Null Count  Dtype  \n",
      "---  ------    --------------  -----  \n",
      " 0   Pclass    314 non-null    int64  \n",
      " 1   Survived  314 non-null    object \n",
      " 2   Age       261 non-null    float64\n",
      "dtypes: float64(1), int64(1), object(1)\n",
      "memory usage: 9.8+ KB\n"
     ]
    }
   ],
   "source": [
    "women_per_age.info()"
   ]
  },
  {
   "cell_type": "code",
   "execution_count": 15,
   "metadata": {},
   "outputs": [],
   "source": [
    "women_per_age.dropna(subset=[\"Age\"], axis =0, inplace = True)"
   ]
  },
  {
   "cell_type": "code",
   "execution_count": 16,
   "metadata": {},
   "outputs": [
    {
     "data": {
      "text/html": [
       "<div>\n",
       "<style scoped>\n",
       "    .dataframe tbody tr th:only-of-type {\n",
       "        vertical-align: middle;\n",
       "    }\n",
       "\n",
       "    .dataframe tbody tr th {\n",
       "        vertical-align: top;\n",
       "    }\n",
       "\n",
       "    .dataframe thead th {\n",
       "        text-align: right;\n",
       "    }\n",
       "</style>\n",
       "<table border=\"1\" class=\"dataframe\">\n",
       "  <thead>\n",
       "    <tr style=\"text-align: right;\">\n",
       "      <th></th>\n",
       "      <th>Pclass</th>\n",
       "      <th>Survived</th>\n",
       "      <th>Age</th>\n",
       "    </tr>\n",
       "  </thead>\n",
       "  <tbody>\n",
       "    <tr>\n",
       "      <th>469</th>\n",
       "      <td>3</td>\n",
       "      <td>Survived</td>\n",
       "      <td>0.75</td>\n",
       "    </tr>\n",
       "    <tr>\n",
       "      <th>644</th>\n",
       "      <td>3</td>\n",
       "      <td>Survived</td>\n",
       "      <td>0.75</td>\n",
       "    </tr>\n",
       "    <tr>\n",
       "      <th>381</th>\n",
       "      <td>3</td>\n",
       "      <td>Survived</td>\n",
       "      <td>1.00</td>\n",
       "    </tr>\n",
       "    <tr>\n",
       "      <th>172</th>\n",
       "      <td>3</td>\n",
       "      <td>Survived</td>\n",
       "      <td>1.00</td>\n",
       "    </tr>\n",
       "    <tr>\n",
       "      <th>642</th>\n",
       "      <td>3</td>\n",
       "      <td>Perished</td>\n",
       "      <td>2.00</td>\n",
       "    </tr>\n",
       "  </tbody>\n",
       "</table>\n",
       "</div>"
      ],
      "text/plain": [
       "     Pclass  Survived   Age\n",
       "469       3  Survived  0.75\n",
       "644       3  Survived  0.75\n",
       "381       3  Survived  1.00\n",
       "172       3  Survived  1.00\n",
       "642       3  Perished  2.00"
      ]
     },
     "execution_count": 16,
     "metadata": {},
     "output_type": "execute_result"
    }
   ],
   "source": [
    "women_per_age.head()"
   ]
  },
  {
   "cell_type": "code",
   "execution_count": 17,
   "metadata": {},
   "outputs": [],
   "source": [
    "#Get passengers from first class that perished\n",
    "women_per_age_1_p=pd.DataFrame(women_per_age.loc[(women_per_age.Pclass==1)&(women_per_age.Survived=='Perished')]['Age'])\n",
    "#Get 'Age' frecuencies, sorted by Age in ascending oder\n",
    "women_per_age_1_p=pd.DataFrame(women_per_age_1_p.value_counts()).sort_values(by='Age', ascending=True, axis=0)\n",
    "women_per_age_1_p.reset_index(inplace=True)\n",
    "#Get passengers from first class that survived\n",
    "women_per_age_1_s=pd.DataFrame(women_per_age.loc[(women_per_age.Pclass==1)&(women_per_age.Survived=='Survived')]['Age'])\n",
    "#Get 'Age' frecuencies, sorted by Age in ascending order\n",
    "women_per_age_1_s=pd.DataFrame(women_per_age_1_s.value_counts()).sort_values(by='Age', ascending=True, axis=0)\n",
    "women_per_age_1_s.reset_index(inplace=True)"
   ]
  },
  {
   "cell_type": "code",
   "execution_count": 18,
   "metadata": {},
   "outputs": [],
   "source": [
    "#Repeat for 2nd class\n",
    "women_per_age_2_p=pd.DataFrame(women_per_age.loc[(women_per_age.Pclass==2)&(women_per_age.Survived=='Perished')]['Age'])\n",
    "women_per_age_2_p=pd.DataFrame(women_per_age_2_p.value_counts()).sort_values(by='Age', ascending=True, axis=0)\n",
    "women_per_age_2_p.reset_index(inplace=True)\n",
    "women_per_age_2_s=pd.DataFrame(women_per_age.loc[(women_per_age.Pclass==2)&(women_per_age.Survived=='Survived')]['Age'])\n",
    "women_per_age_2_s=pd.DataFrame(women_per_age_2_s.value_counts()).sort_values(by='Age', ascending=True, axis=0)\n",
    "women_per_age_2_s.reset_index(inplace=True)\n",
    "\n",
    "#Repeat for 3rd class\n",
    "women_per_age_3_p=pd.DataFrame(women_per_age.loc[(women_per_age.Pclass==3)&(women_per_age.Survived=='Perished')]['Age'])\n",
    "women_per_age_3_p=pd.DataFrame(women_per_age_3_p.value_counts()).sort_values(by='Age', ascending=True, axis=0)\n",
    "women_per_age_3_p.reset_index(inplace=True)\n",
    "women_per_age_3_s=pd.DataFrame(women_per_age.loc[(women_per_age.Pclass==3)&(women_per_age.Survived=='Survived')]['Age'])\n",
    "women_per_age_3_s=pd.DataFrame(women_per_age_3_s.value_counts()).sort_values(by='Age', ascending=True, axis=0)\n",
    "women_per_age_3_s.reset_index(inplace=True)"
   ]
  },
  {
   "cell_type": "code",
   "execution_count": 19,
   "metadata": {},
   "outputs": [],
   "source": [
    "women_per_age_1_p.set_index('Age',inplace=True)\n",
    "women_per_age_2_p.set_index('Age',inplace=True)\n",
    "women_per_age_3_p.set_index('Age',inplace=True)\n",
    "women_per_age_1_s.set_index('Age',inplace=True)\n",
    "women_per_age_2_s.set_index('Age',inplace=True)\n",
    "women_per_age_3_s.set_index('Age',inplace=True)"
   ]
  },
  {
   "cell_type": "code",
   "execution_count": 62,
   "metadata": {},
   "outputs": [
    {
     "data": {
      "image/png": "[encoded data removed]",
      "text/plain": [
       "<Figure size 1440x1080 with 6 Axes>"
      ]
     },
     "metadata": {
      "needs_background": "light"
     },
     "output_type": "display_data"
    }
   ],
   "source": [
    "fig3 = plt.figure() # create figure\n",
    "fig3.set_figwidth(20) # set width\n",
    "fig3.set_figheight(20) # set height\n",
    "fig3.suptitle(r\"$\\bf{ Figure 3:}$\" \" Age of female passenger survivors and victims\", y=0.05, fontsize=16)\n",
    "\n",
    "ax0 = fig3.add_subplot(3, 2, 1) # add subplot 1 (1 row, 1 column, first plot)\n",
    "ax1 = fig3.add_subplot(3, 2, 2) # add subplot 1 (1 row, 2nd column, second plot)\n",
    "ax2 = fig3.add_subplot(3, 2, 3) \n",
    "ax3 = fig3.add_subplot(3, 2, 4) \n",
    "ax4 = fig3.add_subplot(3, 2, 5) \n",
    "ax5 = fig3.add_subplot(3, 2, 6) \n",
    "\n",
    "# Subplot 1: Bar plot\n",
    "women_per_age_1_p.plot(kind='bar',figsize=(20, 15), legend=False, ax=ax0) # add to subplot 1\n",
    "ax0.set_title('First class victims')\n",
    "ax0.set_xlabel('Age')\n",
    "ax0.set_ylabel('# of victims')\n",
    "ax0.set_ylim([0,5])\n",
    "\n",
    "# Subplot 2: Bar plot\n",
    "women_per_age_1_s.plot(kind='bar',figsize=(20, 15), legend=False, ax=ax1) \n",
    "ax1.set_title('First class surivors')\n",
    "ax1.set_xlabel('Age')\n",
    "ax1.set_ylabel('# of survivors')\n",
    "ax1.set_ylim([0,5])\n",
    "\n",
    "# Subplot 3: Bar plot\n",
    "women_per_age_2_p.plot(kind='bar',figsize=(20, 15), legend=False, ax=ax2) \n",
    "ax2.set_title('Second class victims')\n",
    "ax2.set_xlabel('Age')\n",
    "ax2.set_ylabel('# of victims')\n",
    "\n",
    "# Subplot 4: Bar plot\n",
    "women_per_age_2_s.plot(kind='bar',figsize=(20, 15), legend=False, ax=ax3) \n",
    "ax3.set_title('Second class survivors')\n",
    "ax3.set_xlabel('Age')\n",
    "ax3.set_ylabel('# of survivors')\n",
    "\n",
    "# Subplot 5: Bar plot\n",
    "women_per_age_3_p.plot(kind='bar',figsize=(20, 15), legend=False, ax=ax4) \n",
    "ax4.set_title('Third class victims')\n",
    "ax4.set_xlabel('Age')\n",
    "ax4.set_ylabel('# of victims')\n",
    "\n",
    "# Subplot 6: Bar plot\n",
    "women_per_age_3_s.plot(kind='bar',figsize=(20, 15), legend=False, ax=ax5) \n",
    "ax5.set_title('Third class survivors')\n",
    "ax5.set_xlabel('Age')\n",
    "ax5.set_ylabel('# of survivors')\n",
    "\n",
    "plt.subplots_adjust(hspace = 0.3)\n",
    "plt.show()"
   ]
  },
  {
   "cell_type": "markdown",
   "metadata": {},
   "source": [
    "#### Age of minority groups: men"
   ]
  },
  {
   "cell_type": "markdown",
   "metadata": {},
   "source": [
    "Let's do the same but now for male passengers."
   ]
  },
  {
   "cell_type": "code",
   "execution_count": 21,
   "metadata": {},
   "outputs": [],
   "source": [
    "men_per_age = pd.DataFrame(train_data.loc[train_data.Sex=='male'][['Pclass','Survived','Age']])\n",
    "men_per_age['Survived'].replace(to_replace=[0, 1], value=['Perished', 'Survived'], inplace=True)\n",
    "men_per_age.sort_values(by='Age', ascending=True, axis=0, inplace=True)"
   ]
  },
  {
   "cell_type": "code",
   "execution_count": 29,
   "metadata": {},
   "outputs": [
    {
     "name": "stdout",
     "output_type": "stream",
     "text": [
      "<class 'pandas.core.frame.DataFrame'>\n",
      "Int64Index: 577 entries, 803 to 878\n",
      "Data columns (total 3 columns):\n",
      " #   Column    Non-Null Count  Dtype  \n",
      "---  ------    --------------  -----  \n",
      " 0   Pclass    577 non-null    int64  \n",
      " 1   Survived  577 non-null    object \n",
      " 2   Age       453 non-null    float64\n",
      "dtypes: float64(1), int64(1), object(1)\n",
      "memory usage: 18.0+ KB\n"
     ]
    }
   ],
   "source": [
    "men_per_age.info()"
   ]
  },
  {
   "cell_type": "code",
   "execution_count": 30,
   "metadata": {},
   "outputs": [
    {
     "data": {
      "text/html": [
       "<div>\n",
       "<style scoped>\n",
       "    .dataframe tbody tr th:only-of-type {\n",
       "        vertical-align: middle;\n",
       "    }\n",
       "\n",
       "    .dataframe tbody tr th {\n",
       "        vertical-align: top;\n",
       "    }\n",
       "\n",
       "    .dataframe thead th {\n",
       "        text-align: right;\n",
       "    }\n",
       "</style>\n",
       "<table border=\"1\" class=\"dataframe\">\n",
       "  <thead>\n",
       "    <tr style=\"text-align: right;\">\n",
       "      <th></th>\n",
       "      <th>Pclass</th>\n",
       "      <th>Survived</th>\n",
       "      <th>Age</th>\n",
       "    </tr>\n",
       "  </thead>\n",
       "  <tbody>\n",
       "    <tr>\n",
       "      <th>803</th>\n",
       "      <td>3</td>\n",
       "      <td>Survived</td>\n",
       "      <td>0.42</td>\n",
       "    </tr>\n",
       "    <tr>\n",
       "      <th>755</th>\n",
       "      <td>2</td>\n",
       "      <td>Survived</td>\n",
       "      <td>0.67</td>\n",
       "    </tr>\n",
       "    <tr>\n",
       "      <th>831</th>\n",
       "      <td>2</td>\n",
       "      <td>Survived</td>\n",
       "      <td>0.83</td>\n",
       "    </tr>\n",
       "    <tr>\n",
       "      <th>78</th>\n",
       "      <td>2</td>\n",
       "      <td>Survived</td>\n",
       "      <td>0.83</td>\n",
       "    </tr>\n",
       "    <tr>\n",
       "      <th>305</th>\n",
       "      <td>1</td>\n",
       "      <td>Survived</td>\n",
       "      <td>0.92</td>\n",
       "    </tr>\n",
       "  </tbody>\n",
       "</table>\n",
       "</div>"
      ],
      "text/plain": [
       "     Pclass  Survived   Age\n",
       "803       3  Survived  0.42\n",
       "755       2  Survived  0.67\n",
       "831       2  Survived  0.83\n",
       "78        2  Survived  0.83\n",
       "305       1  Survived  0.92"
      ]
     },
     "execution_count": 30,
     "metadata": {},
     "output_type": "execute_result"
    }
   ],
   "source": [
    "men_per_age.dropna(subset=[\"Age\"], axis =0, inplace = True)\n",
    "men_per_age.head()"
   ]
  },
  {
   "cell_type": "code",
   "execution_count": 31,
   "metadata": {},
   "outputs": [],
   "source": [
    "#Get passengers from first class that perished\n",
    "men_per_age_1_p=pd.DataFrame(men_per_age.loc[(men_per_age.Pclass==1)&(men_per_age.Survived=='Perished')]['Age'])\n",
    "#Get 'Age' frecuencies, sorted by Age in ascending oder\n",
    "men_per_age_1_p=pd.DataFrame(men_per_age_1_p.value_counts()).sort_values(by='Age', ascending=True, axis=0)\n",
    "men_per_age_1_p.reset_index(inplace=True)\n",
    "#Get passengers from first class that survived\n",
    "men_per_age_1_s=pd.DataFrame(men_per_age.loc[(men_per_age.Pclass==1)&(men_per_age.Survived=='Survived')]['Age'])\n",
    "#Get 'Age' frecuencies, sorted by Age in ascending order\n",
    "men_per_age_1_s=pd.DataFrame(men_per_age_1_s.value_counts()).sort_values(by='Age', ascending=True, axis=0)\n",
    "men_per_age_1_s.reset_index(inplace=True)"
   ]
  },
  {
   "cell_type": "code",
   "execution_count": 32,
   "metadata": {},
   "outputs": [],
   "source": [
    "#Repeat for 2nd class\n",
    "men_per_age_2_p=pd.DataFrame(men_per_age.loc[(men_per_age.Pclass==2)&(men_per_age.Survived=='Perished')]['Age'])\n",
    "men_per_age_2_p=pd.DataFrame(men_per_age_2_p.value_counts()).sort_values(by='Age', ascending=True, axis=0)\n",
    "men_per_age_2_p.reset_index(inplace=True)\n",
    "men_per_age_2_s=pd.DataFrame(men_per_age.loc[(men_per_age.Pclass==2)&(men_per_age.Survived=='Survived')]['Age'])\n",
    "men_per_age_2_s=pd.DataFrame(men_per_age_2_s.value_counts()).sort_values(by='Age', ascending=True, axis=0)\n",
    "men_per_age_2_s.reset_index(inplace=True)\n",
    "\n",
    "#Repeat for 3rd class\n",
    "men_per_age_3_p=pd.DataFrame(men_per_age.loc[(men_per_age.Pclass==3)&(men_per_age.Survived=='Perished')]['Age'])\n",
    "men_per_age_3_p=pd.DataFrame(men_per_age_3_p.value_counts()).sort_values(by='Age', ascending=True, axis=0)\n",
    "men_per_age_3_p.reset_index(inplace=True)\n",
    "men_per_age_3_s=pd.DataFrame(men_per_age.loc[(men_per_age.Pclass==3)&(men_per_age.Survived=='Survived')]['Age'])\n",
    "men_per_age_3_s=pd.DataFrame(men_per_age_3_s.value_counts()).sort_values(by='Age', ascending=True, axis=0)\n",
    "men_per_age_3_s.reset_index(inplace=True)"
   ]
  },
  {
   "cell_type": "code",
   "execution_count": 33,
   "metadata": {},
   "outputs": [],
   "source": [
    "men_per_age_1_p.set_index('Age',inplace=True)\n",
    "men_per_age_2_p.set_index('Age',inplace=True)\n",
    "men_per_age_3_p.set_index('Age',inplace=True)\n",
    "men_per_age_1_s.set_index('Age',inplace=True)\n",
    "men_per_age_2_s.set_index('Age',inplace=True)\n",
    "men_per_age_3_s.set_index('Age',inplace=True)"
   ]
  },
  {
   "cell_type": "code",
   "execution_count": 34,
   "metadata": {},
   "outputs": [
    {
     "data": {
      "image/png": "[encoded data removed]",
      "text/plain": [
       "<Figure size 1440x720 with 6 Axes>"
      ]
     },
     "metadata": {
      "needs_background": "light"
     },
     "output_type": "display_data"
    }
   ],
   "source": [
    "fig4 = plt.figure() # create figure\n",
    "fig4.set_figwidth(20) # set width\n",
    "fig4.set_figheight(40) # set height\n",
    "fig4.suptitle(r\"$\\bf{ Figure 4:}$\" \" Age of male passenger survivors and victims\", y=-0.03, fontsize=16)\n",
    "\n",
    "ax0 = fig4.add_subplot(2, 3, 1) # add subplot 1 (1 row, 1 column, first plot)\n",
    "ax1 = fig4.add_subplot(2, 3, 2) # add subplot 1 (1 row, 2nd column, second plot)\n",
    "ax2 = fig4.add_subplot(2, 3, 3) \n",
    "ax3 = fig4.add_subplot(2, 3, 4) \n",
    "ax4 = fig4.add_subplot(2, 3, 5) \n",
    "ax5 = fig4.add_subplot(2, 3, 6) \n",
    "\n",
    "# Subplot 1: Bar plot\n",
    "men_per_age_1_p.plot(kind='bar',figsize=(20, 20), legend=False, ax=ax0) # add to subplot 1\n",
    "ax0.set_title('First class')\n",
    "ax0.set_xlabel('Age')\n",
    "ax0.set_ylabel('# of victims')\n",
    "ax0.set_ylim([0,5])\n",
    "\n",
    "# Subplot 2: Bar plot\n",
    "men_per_age_2_p.plot(kind='bar',figsize=(20, 6), legend=False, ax=ax1) # add to subplot 1\n",
    "ax1.set_title('Second class')\n",
    "ax1.set_xlabel('Age')\n",
    "ax1.set_ylabel('# of victims')\n",
    "\n",
    "# Subplot 3: Bar plot\n",
    "men_per_age_3_p.plot(kind='bar',figsize=(20, 10), legend=False, ax=ax2) # add to subplot 1\n",
    "ax2.set_title('Third class')\n",
    "ax2.set_xlabel('Age')\n",
    "ax2.set_ylabel('# of victims')\n",
    "\n",
    "# Subplot 4: Bar plot\n",
    "men_per_age_1_s.plot(kind='bar',figsize=(20, 6), legend=False, ax=ax3) # add to subplot 1\n",
    "ax3.set_xlabel('Age')\n",
    "ax3.set_ylabel('# of survivors')\n",
    "ax3.set_ylim([0,5])\n",
    "\n",
    "# Subplot 2: Bar plot\n",
    "men_per_age_2_s.plot(kind='bar',figsize=(20, 6), legend=False, ax=ax4) # add to subplot 1\n",
    "ax4.set_xlabel('Age')\n",
    "ax4.set_ylabel('# of survivors')\n",
    "\n",
    "# Subplot 3: Bar plot\n",
    "men_per_age_3_s.plot(kind='bar',figsize=(20, 10), legend=False, ax=ax5) # add to subplot 1\n",
    "ax5.set_xlabel('Age')\n",
    "ax5.set_ylabel('# of survivors')\n",
    "\n",
    "plt.show()"
   ]
  },
  {
   "cell_type": "code",
   "execution_count": null,
   "metadata": {},
   "outputs": [],
   "source": []
  }
 ],
 "metadata": {
  "kernelspec": {
   "display_name": "Python 3",
   "language": "python",
   "name": "python3"
  },
  "language_info": {
   "codemirror_mode": {
    "name": "ipython",
    "version": 3
   },
   "file_extension": ".py",
   "mimetype": "text/x-python",
   "name": "python",
   "nbconvert_exporter": "python",
   "pygments_lexer": "ipython3",
   "version": "3.8.5"
  }
 },
 "nbformat": 4,
 "nbformat_minor": 4
}
